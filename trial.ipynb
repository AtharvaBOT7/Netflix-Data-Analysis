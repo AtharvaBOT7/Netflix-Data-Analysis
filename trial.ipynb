{
 "cells": [
  {
   "cell_type": "code",
   "execution_count": 1,
   "id": "66b9e4fe",
   "metadata": {},
   "outputs": [
    {
     "name": "stdout",
     "output_type": "stream",
     "text": [
      "Kernel started successfully.\n"
     ]
    }
   ],
   "source": [
    "print(\"Kernel started successfully.\")"
   ]
  },
  {
   "cell_type": "code",
   "execution_count": 2,
   "id": "59ada7d0",
   "metadata": {},
   "outputs": [
    {
     "name": "stdout",
     "output_type": "stream",
     "text": [
      "Name: dbt-snowflake\n",
      "Version: 1.9.0\n",
      "Summary: The Snowflake adapter plugin for dbt\n",
      "Home-page: https://github.com/dbt-labs/dbt-snowflake\n",
      "Author: dbt Labs\n",
      "Author-email: info@dbtlabs.com\n",
      "License: \n",
      "Location: /Users/atharvabot7/Downloads/Data_Engineering_Projects/Netflix Data Analysis/netflixdeproject/lib/python3.9/site-packages\n",
      "Requires: agate, dbt-adapters, dbt-common, dbt-core, snowflake-connector-python\n",
      "Required-by: \n",
      "Note: you may need to restart the kernel to use updated packages.\n"
     ]
    }
   ],
   "source": [
    "pip show dbt-snowflake"
   ]
  },
  {
   "cell_type": "code",
   "execution_count": null,
   "id": "00aa9cf5",
   "metadata": {},
   "outputs": [],
   "source": []
  }
 ],
 "metadata": {
  "kernelspec": {
   "display_name": "Python 3",
   "language": "python",
   "name": "python3"
  },
  "language_info": {
   "codemirror_mode": {
    "name": "ipython",
    "version": 3
   },
   "file_extension": ".py",
   "mimetype": "text/x-python",
   "name": "python",
   "nbconvert_exporter": "python",
   "pygments_lexer": "ipython3",
   "version": "3.9.23"
  }
 },
 "nbformat": 4,
 "nbformat_minor": 5
}
